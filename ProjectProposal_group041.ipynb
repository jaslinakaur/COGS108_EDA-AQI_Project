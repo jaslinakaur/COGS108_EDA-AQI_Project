{
 "cells": [
  {
   "cell_type": "markdown",
   "metadata": {},
   "source": [
    "# COGS 108 - Final Project Proposal"
   ]
  },
  {
   "cell_type": "markdown",
   "metadata": {},
   "source": [
    "# Names\n",
    "\n",
    "- Aakshi Kochhar\n",
    "- Jaslina Kochhar\n",
    "- Pavithra Pandian\n",
    "- Nidhi Satyadev\n",
    "- Rawan Alkhafaf"
   ]
  },
  {
   "cell_type": "markdown",
   "metadata": {},
   "source": [
    "# Research Question"
   ]
  },
  {
   "cell_type": "markdown",
   "metadata": {},
   "source": [
    "*How does one’s geographic location correlate to the outcome of a positive or negative covid result? Furthermore, how does one’s ethnicity correlate to the outcome?*"
   ]
  },
  {
   "cell_type": "markdown",
   "metadata": {},
   "source": [
    "## Background and Prior Work"
   ]
  },
  {
   "cell_type": "markdown",
   "metadata": {},
   "source": [
    "*Since Covid-19 has been around since December 2019, it is pretty safe to assume that it has affected everyone’s daily lives. Even though most of the population is still in quarantine, there are still certain areas that have higher covid rates than others. After initially doing research about the topic, we noticed a plausible correlation between higher covid rates among people who live in lower socioeconomic areas and are of minority status. A study done by Christopher Rentsch et al., discusses how covid-19 affects race and ethnicity. The study was done within the United States Department of Veterans Affairs and concluded that “black and hispanic individuals are experiencing an excess burden of Covid-19” (Rentsch et al., 2020). Another study we came across discussed how Covid-19 presents itself as a significant risk for American Indian and Alaska Native people. The study, which was conducted by Samantha Artiga and Kendal Orgera, discusses how “AIAN [American Indian/Alaska Native] people face barriers to health care that may make it challenging to obtain coronavirus testing and treatment services” (2020). Both studies showed that the virus greatly affected areas with minority populations and that there was a stark difference in the covid rates between different ethnic and racial groups, as well as geographical locations. The prior work is relevant to our research question since it helps us understand what the potential correlation between the variables could be. With the past data in hand, we can create a better model and gain a better understanding of which minorities are affected more by the pandemic and which geographical locations have higher rates of covid. The data obtained by previous researchers will give us a footing with the data that we can further collect through more online research as well as potential surveys as well as questionnaires.* \n",
    "\n",
    "References (include links):\n",
    "- \"Covid-19 by Race and Ethnicity: A National Cohort Study of 6 Million United States Veterans\" - C. Rentsch et al., https://www.ncbi.nlm.nih.gov/pmc/articles/PMC7273292/\n",
    "- \"COVID-19 Presents Significant Risks for American Indian and Alaska Native People\" - S. Artiga & K. Orgera, https://www.kff.org/coronavirus-covid-19/issue-brief/covid-19-presents-significant-risks-for-american-indian-and-alaska-native-people/"
   ]
  },
  {
   "cell_type": "markdown",
   "metadata": {},
   "source": [
    "# Hypothesis\n"
   ]
  },
  {
   "cell_type": "markdown",
   "metadata": {},
   "source": [
    "*We believe that covid-19 positivity rates are higher for lower socioeconomic communities and minority races.*"
   ]
  },
  {
   "cell_type": "markdown",
   "metadata": {},
   "source": [
    "# Data"
   ]
  },
  {
   "cell_type": "markdown",
   "metadata": {},
   "source": [
    "*The variables we will consider are: ethnicity, location (within USA), covid test results, death rate, age, and sex. We would strive to observe this data from test results from various communities throughout the United States. This data can be collected from prior studies, mapping the spikes of covid with where they are occurring and what the economic status of that area is. In addition we would factor in the ethnicities living in the spiked covid areas. The best way to organize this data would be through graphs separating the data by our above variables.*"
   ]
  },
  {
   "cell_type": "markdown",
   "metadata": {},
   "source": [
    "# Ethics & Privacy"
   ]
  },
  {
   "cell_type": "markdown",
   "metadata": {},
   "source": [
    "*Within a privacy and ethical standpoint, we will ensure that the participants who were in the researched dataset voluntarily agreed to provide informed consent which the participants understand the research and its risks. Additionally, privacy is guaranteed due to the anonymity of the dataset which removes all personally identifiable information and only includes general information such as ethnicity, location, age, and gender.*"
   ]
  },
  {
   "cell_type": "markdown",
   "metadata": {},
   "source": [
    "# Team Expectations "
   ]
  },
  {
   "cell_type": "markdown",
   "metadata": {},
   "source": [
    "* *Expectation 1: Identify which studies would result in the most beneficial data to recognize the correlation between positive covid results and ethnicity and geographical location*\n",
    "* *Expectation 2: Understand what the data means in relation to our variables*\n",
    "* *Expectation 3: Be able to work together to clearly organize the data*"
   ]
  },
  {
   "cell_type": "markdown",
   "metadata": {},
   "source": [
    "# Project Timeline Proposal"
   ]
  },
  {
   "cell_type": "markdown",
   "metadata": {},
   "source": [
    "| Meeting Date  | Meeting Time| Completed Before Meeting  | Discuss at Meeting |\n",
    "|---|---|---|---|\n",
    "| 2/04  |  12:30 PM | Search for datasets  | Discuss Wrangling and possible analytical approaches; Assign group members to lead each specific part | \n",
    "| 2/11  |  12:30 PM |  Import & Wrangle Data; EDA | Review/Edit wrangling/EDA | \n",
    "| 2/18  | 12:30 PM  | Identify necessary libraries to analyze data sets  | Review/Edit wrangling/EDA; Discuss Analysis Plan  |\n",
    "| 2/25  | 12:30 PM  | Finalize wrangling/EDA; Begin Analysis | Discuss/edit Analysis   |\n",
    "| 3/04  | 12:30 PM  | Complete analysis | Discuss/edit Analysis |\n",
    "| 3/11  | 12:30 PM  | Draft results/conclusion/discussion| Discuss/edit full project; Complete project check-in |\n",
    "| 3/18  | Before 11:59 PM  | NA | Turn in Final Project & Group Project Surveys |"
   ]
  }
 ],
 "metadata": {
  "kernelspec": {
   "display_name": "Python 3",
   "language": "python",
   "name": "python3"
  },
  "language_info": {
   "codemirror_mode": {
    "name": "ipython",
    "version": 3
   },
   "file_extension": ".py",
   "mimetype": "text/x-python",
   "name": "python",
   "nbconvert_exporter": "python",
   "pygments_lexer": "ipython3",
   "version": "3.8.5"
  }
 },
 "nbformat": 4,
 "nbformat_minor": 2
}
